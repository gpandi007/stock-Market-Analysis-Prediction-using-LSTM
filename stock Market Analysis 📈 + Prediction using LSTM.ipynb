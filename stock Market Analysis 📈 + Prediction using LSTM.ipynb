{
 "cells": [
  {
   "cell_type": "code",
   "execution_count": null,
   "metadata": {},
   "outputs": [],
   "source": [
    "# https://www.kaggle.com/code/mahwiz/stock-market-prediction"
   ]
  },
  {
   "cell_type": "code",
   "execution_count": 1,
   "metadata": {},
   "outputs": [
    {
     "name": "stdout",
     "output_type": "stream",
     "text": [
      "Collecting yfinance\n",
      "  Using cached yfinance-0.1.72-py2.py3-none-any.whl (27 kB)\n",
      "Requirement already satisfied: pandas>=0.24.0 in c:\\programdata\\anaconda3\\lib\\site-packages (from yfinance) (1.0.1)\n",
      "Requirement already satisfied: numpy>=1.15 in c:\\programdata\\anaconda3\\lib\\site-packages (from yfinance) (1.18.1)\n",
      "Requirement already satisfied: multitasking>=0.0.7 in c:\\programdata\\anaconda3\\lib\\site-packages (from yfinance) (0.0.10)\n",
      "Collecting lxml>=4.5.1\n",
      "  Using cached lxml-4.9.0-cp37-cp37m-win_amd64.whl (3.6 MB)\n",
      "Collecting requests>=2.26\n",
      "  Using cached requests-2.28.0-py3-none-any.whl (62 kB)\n",
      "Requirement already satisfied: python-dateutil>=2.6.1 in c:\\programdata\\anaconda3\\lib\\site-packages (from pandas>=0.24.0->yfinance) (2.8.1)\n",
      "Requirement already satisfied: pytz>=2017.2 in c:\\programdata\\anaconda3\\lib\\site-packages (from pandas>=0.24.0->yfinance) (2019.3)\n",
      "Requirement already satisfied: urllib3<1.27,>=1.21.1 in c:\\programdata\\anaconda3\\lib\\site-packages (from requests>=2.26->yfinance) (1.25.8)\n",
      "Collecting charset-normalizer~=2.0.0\n",
      "  Using cached charset_normalizer-2.0.12-py3-none-any.whl (39 kB)\n",
      "Requirement already satisfied: certifi>=2017.4.17 in c:\\programdata\\anaconda3\\lib\\site-packages (from requests>=2.26->yfinance) (2019.11.28)\n",
      "Requirement already satisfied: idna<4,>=2.5 in c:\\programdata\\anaconda3\\lib\\site-packages (from requests>=2.26->yfinance) (2.8)\n",
      "Requirement already satisfied: six>=1.5 in c:\\programdata\\anaconda3\\lib\\site-packages (from python-dateutil>=2.6.1->pandas>=0.24.0->yfinance) (1.14.0)\n",
      "Installing collected packages: lxml, charset-normalizer, requests, yfinance\n",
      "  Attempting uninstall: lxml\n",
      "    Found existing installation: lxml 4.5.0\n",
      "    Uninstalling lxml-4.5.0:\n"
     ]
    },
    {
     "name": "stderr",
     "output_type": "stream",
     "text": [
      "ERROR: huggingface-hub 0.4.0 has requirement packaging>=20.9, but you'll have packaging 20.1 which is incompatible.\n",
      "ERROR: Could not install packages due to an EnvironmentError: [WinError 5] Access is denied: 'c:\\\\programdata\\\\anaconda3\\\\lib\\\\site-packages\\\\lxml-4.5.0.dist-info\\\\INSTALLER'\n",
      "Consider using the `--user` option or check the permissions.\n",
      "\n"
     ]
    }
   ],
   "source": [
    "!pip install yfinance "
   ]
  },
  {
   "cell_type": "code",
   "execution_count": 7,
   "metadata": {},
   "outputs": [],
   "source": [
    "import pandas as pd \n",
    "import numpy as np\n",
    "import datetime as dt\n",
    "import pandas_datareader as web\n",
    "import matplotlib.pyplot as plt\n",
    "from sklearn.preprocessing import MinMaxScaler\n",
    "from tensorflow.keras.models import Sequential\n",
    "from tensorflow.keras.layers import Dense, Dropout, LSTM"
   ]
  },
  {
   "cell_type": "code",
   "execution_count": 27,
   "metadata": {},
   "outputs": [],
   "source": [
    "# fetching data from Yahoo Finance\n",
    "company = 'TCS.NS'"
   ]
  },
  {
   "cell_type": "code",
   "execution_count": 37,
   "metadata": {},
   "outputs": [],
   "source": [
    "start = dt.datetime(2004, 1, 1)\n",
    "end = dt.datetime(2022, 6, 28)\n",
    "\n",
    "data = web.DataReader(company, 'yahoo', start, end)\n",
    "\n",
    "#Scale data\n",
    "scaler = MinMaxScaler(feature_range=(0,1))\n",
    "scaled_data = scaler.fit_transform(data['Close'].values.reshape(-1,1))\n",
    "prediction_days = 60\n",
    "x_train = []\n",
    "y_train = []\n",
    "\n",
    "for x in range(prediction_days, len(scaled_data)):\n",
    "    x_train.append(scaled_data[x-prediction_days:x, 0])\n",
    "    y_train.append(scaled_data[x, 0])\n",
    "    \n",
    "x_train, y_train = np.array(x_train), np.array(y_train)\n",
    "x_train = np.reshape(x_train, (x_train.shape[0], x_train.shape[1],1))"
   ]
  },
  {
   "cell_type": "code",
   "execution_count": 38,
   "metadata": {},
   "outputs": [
    {
     "data": {
      "text/html": [
       "<div>\n",
       "<style scoped>\n",
       "    .dataframe tbody tr th:only-of-type {\n",
       "        vertical-align: middle;\n",
       "    }\n",
       "\n",
       "    .dataframe tbody tr th {\n",
       "        vertical-align: top;\n",
       "    }\n",
       "\n",
       "    .dataframe thead th {\n",
       "        text-align: right;\n",
       "    }\n",
       "</style>\n",
       "<table border=\"1\" class=\"dataframe\">\n",
       "  <thead>\n",
       "    <tr style=\"text-align: right;\">\n",
       "      <th></th>\n",
       "      <th>High</th>\n",
       "      <th>Low</th>\n",
       "      <th>Open</th>\n",
       "      <th>Close</th>\n",
       "      <th>Volume</th>\n",
       "      <th>Adj Close</th>\n",
       "    </tr>\n",
       "    <tr>\n",
       "      <th>Date</th>\n",
       "      <th></th>\n",
       "      <th></th>\n",
       "      <th></th>\n",
       "      <th></th>\n",
       "      <th></th>\n",
       "      <th></th>\n",
       "    </tr>\n",
       "  </thead>\n",
       "  <tbody>\n",
       "    <tr>\n",
       "      <th>2004-01-01</th>\n",
       "      <td>38.387501</td>\n",
       "      <td>38.387501</td>\n",
       "      <td>38.387501</td>\n",
       "      <td>38.387501</td>\n",
       "      <td>0.0</td>\n",
       "      <td>28.248291</td>\n",
       "    </tr>\n",
       "    <tr>\n",
       "      <th>2004-01-02</th>\n",
       "      <td>38.387501</td>\n",
       "      <td>38.387501</td>\n",
       "      <td>38.387501</td>\n",
       "      <td>38.387501</td>\n",
       "      <td>0.0</td>\n",
       "      <td>28.248291</td>\n",
       "    </tr>\n",
       "    <tr>\n",
       "      <th>2004-01-05</th>\n",
       "      <td>38.387501</td>\n",
       "      <td>38.387501</td>\n",
       "      <td>38.387501</td>\n",
       "      <td>38.387501</td>\n",
       "      <td>0.0</td>\n",
       "      <td>28.248291</td>\n",
       "    </tr>\n",
       "    <tr>\n",
       "      <th>2004-01-06</th>\n",
       "      <td>38.387501</td>\n",
       "      <td>38.387501</td>\n",
       "      <td>38.387501</td>\n",
       "      <td>38.387501</td>\n",
       "      <td>0.0</td>\n",
       "      <td>28.248291</td>\n",
       "    </tr>\n",
       "    <tr>\n",
       "      <th>2004-01-07</th>\n",
       "      <td>38.387501</td>\n",
       "      <td>38.387501</td>\n",
       "      <td>38.387501</td>\n",
       "      <td>38.387501</td>\n",
       "      <td>0.0</td>\n",
       "      <td>28.248291</td>\n",
       "    </tr>\n",
       "    <tr>\n",
       "      <th>...</th>\n",
       "      <td>...</td>\n",
       "      <td>...</td>\n",
       "      <td>...</td>\n",
       "      <td>...</td>\n",
       "      <td>...</td>\n",
       "      <td>...</td>\n",
       "    </tr>\n",
       "    <tr>\n",
       "      <th>2022-06-22</th>\n",
       "      <td>3250.550049</td>\n",
       "      <td>3183.000000</td>\n",
       "      <td>3199.899902</td>\n",
       "      <td>3222.949951</td>\n",
       "      <td>3336315.0</td>\n",
       "      <td>3222.949951</td>\n",
       "    </tr>\n",
       "    <tr>\n",
       "      <th>2022-06-23</th>\n",
       "      <td>3318.000000</td>\n",
       "      <td>3222.949951</td>\n",
       "      <td>3222.949951</td>\n",
       "      <td>3308.800049</td>\n",
       "      <td>3692578.0</td>\n",
       "      <td>3308.800049</td>\n",
       "    </tr>\n",
       "    <tr>\n",
       "      <th>2022-06-24</th>\n",
       "      <td>3345.000000</td>\n",
       "      <td>3277.500000</td>\n",
       "      <td>3339.000000</td>\n",
       "      <td>3293.100098</td>\n",
       "      <td>2132118.0</td>\n",
       "      <td>3293.100098</td>\n",
       "    </tr>\n",
       "    <tr>\n",
       "      <th>2022-06-27</th>\n",
       "      <td>3362.899902</td>\n",
       "      <td>3306.500000</td>\n",
       "      <td>3350.000000</td>\n",
       "      <td>3314.699951</td>\n",
       "      <td>2037686.0</td>\n",
       "      <td>3314.699951</td>\n",
       "    </tr>\n",
       "    <tr>\n",
       "      <th>2022-06-28</th>\n",
       "      <td>3330.000000</td>\n",
       "      <td>3272.600098</td>\n",
       "      <td>3307.000000</td>\n",
       "      <td>3318.149902</td>\n",
       "      <td>1400046.0</td>\n",
       "      <td>3318.149902</td>\n",
       "    </tr>\n",
       "  </tbody>\n",
       "</table>\n",
       "<p>4577 rows × 6 columns</p>\n",
       "</div>"
      ],
      "text/plain": [
       "                   High          Low         Open        Close     Volume  \\\n",
       "Date                                                                        \n",
       "2004-01-01    38.387501    38.387501    38.387501    38.387501        0.0   \n",
       "2004-01-02    38.387501    38.387501    38.387501    38.387501        0.0   \n",
       "2004-01-05    38.387501    38.387501    38.387501    38.387501        0.0   \n",
       "2004-01-06    38.387501    38.387501    38.387501    38.387501        0.0   \n",
       "2004-01-07    38.387501    38.387501    38.387501    38.387501        0.0   \n",
       "...                 ...          ...          ...          ...        ...   \n",
       "2022-06-22  3250.550049  3183.000000  3199.899902  3222.949951  3336315.0   \n",
       "2022-06-23  3318.000000  3222.949951  3222.949951  3308.800049  3692578.0   \n",
       "2022-06-24  3345.000000  3277.500000  3339.000000  3293.100098  2132118.0   \n",
       "2022-06-27  3362.899902  3306.500000  3350.000000  3314.699951  2037686.0   \n",
       "2022-06-28  3330.000000  3272.600098  3307.000000  3318.149902  1400046.0   \n",
       "\n",
       "              Adj Close  \n",
       "Date                     \n",
       "2004-01-01    28.248291  \n",
       "2004-01-02    28.248291  \n",
       "2004-01-05    28.248291  \n",
       "2004-01-06    28.248291  \n",
       "2004-01-07    28.248291  \n",
       "...                 ...  \n",
       "2022-06-22  3222.949951  \n",
       "2022-06-23  3308.800049  \n",
       "2022-06-24  3293.100098  \n",
       "2022-06-27  3314.699951  \n",
       "2022-06-28  3318.149902  \n",
       "\n",
       "[4577 rows x 6 columns]"
      ]
     },
     "execution_count": 38,
     "metadata": {},
     "output_type": "execute_result"
    }
   ],
   "source": [
    "data"
   ]
  },
  {
   "cell_type": "code",
   "execution_count": 39,
   "metadata": {},
   "outputs": [
    {
     "name": "stdout",
     "output_type": "stream",
     "text": [
      "Epoch 1/25\n",
      "142/142 [==============================] - 12s 84ms/step - loss: 0.0055\n",
      "Epoch 2/25\n",
      "142/142 [==============================] - 12s 86ms/step - loss: 0.0015 1s\n",
      "Epoch 3/25\n",
      "142/142 [==============================] - 13s 88ms/step - loss: 0.0012\n",
      "Epoch 4/25\n",
      "142/142 [==============================] - 12s 88ms/step - loss: 0.0012\n",
      "Epoch 5/25\n",
      "142/142 [==============================] - 13s 88ms/step - loss: 0.0011\n",
      "Epoch 6/25\n",
      "142/142 [==============================] - 11s 80ms/step - loss: 0.0010\n",
      "Epoch 7/25\n",
      "142/142 [==============================] - 11s 81ms/step - loss: 0.0010\n",
      "Epoch 8/25\n",
      "142/142 [==============================] - 12s 87ms/step - loss: 9.2836e-04\n",
      "Epoch 9/25\n",
      "142/142 [==============================] - 12s 87ms/step - loss: 8.6994e-04\n",
      "Epoch 10/25\n",
      "142/142 [==============================] - 12s 87ms/step - loss: 8.0978e-04\n",
      "Epoch 11/25\n",
      "142/142 [==============================] - 13s 88ms/step - loss: 8.3131e-04\n",
      "Epoch 12/25\n",
      "142/142 [==============================] - 12s 88ms/step - loss: 7.0548e-04\n",
      "Epoch 13/25\n",
      "142/142 [==============================] - 12s 87ms/step - loss: 7.8919e-04\n",
      "Epoch 14/25\n",
      "142/142 [==============================] - 12s 87ms/step - loss: 7.4107e-04\n",
      "Epoch 15/25\n",
      "142/142 [==============================] - 13s 89ms/step - loss: 6.9665e-04\n",
      "Epoch 16/25\n",
      "142/142 [==============================] - 12s 88ms/step - loss: 6.6631e-04\n",
      "Epoch 17/25\n",
      "142/142 [==============================] - 12s 87ms/step - loss: 7.4263e-04\n",
      "Epoch 18/25\n",
      "142/142 [==============================] - 12s 87ms/step - loss: 8.3886e-04\n",
      "Epoch 19/25\n",
      "142/142 [==============================] - 13s 88ms/step - loss: 7.6352e-04\n",
      "Epoch 20/25\n",
      "142/142 [==============================] - 13s 89ms/step - loss: 6.2268e-04 0s - loss: \n",
      "Epoch 21/25\n",
      "142/142 [==============================] - 12s 88ms/step - loss: 6.5953e-04\n",
      "Epoch 22/25\n",
      "142/142 [==============================] - 12s 87ms/step - loss: 6.3940e-04\n",
      "Epoch 23/25\n",
      "142/142 [==============================] - 12s 88ms/step - loss: 6.9735e-04\n",
      "Epoch 24/25\n",
      "142/142 [==============================] - 13s 89ms/step - loss: 7.7174e-04 7s - l - ETA: 3s - \n",
      "Epoch 25/25\n",
      "142/142 [==============================] - 13s 90ms/step - loss: 6.9503e-04\n"
     ]
    },
    {
     "data": {
      "text/plain": [
       "<tensorflow.python.keras.callbacks.History at 0x13ee4f34208>"
      ]
     },
     "execution_count": 39,
     "metadata": {},
     "output_type": "execute_result"
    }
   ],
   "source": [
    "#build the Model\n",
    "\n",
    "model = Sequential()\n",
    "model.add(LSTM(units=50, return_sequences=True,input_shape=(x_train.shape[1], 1)))\n",
    "model.add(Dropout(0.2))\n",
    "model.add(LSTM(units=50, return_sequences=True))\n",
    "model.add(Dropout(0.2))\n",
    "model.add(LSTM(units=50))\n",
    "model.add(Dropout(0.2))\n",
    "model.add(Dense(units=1)) #prediction of the next closing value\n",
    "\n",
    "model.compile(optimizer='adam', loss='mean_squared_error')\n",
    "model.fit(x_train, y_train, epochs=25, batch_size=32)"
   ]
  },
  {
   "cell_type": "code",
   "execution_count": 40,
   "metadata": {},
   "outputs": [],
   "source": [
    "# Testing the model accuracy on existing data\n",
    "# load Test Data\n",
    "test_start = dt.datetime(2021, 1, 1)\n",
    "test_end = dt.datetime.now()\n",
    "test_data = web.DataReader(company, 'yahoo', test_start, test_end)\n",
    "actual_prices = test_data['Close'].values\n",
    "total_dataset = pd.concat((data['Close'], test_data['Close']), axis=0)\n",
    "model_inputs = total_dataset[len(total_dataset) - len(test_data) - prediction_days:].values\n",
    "model_inputs = model_inputs.reshape(-1,1)\n",
    "model_inputs = scaler.transform(model_inputs)"
   ]
  },
  {
   "cell_type": "code",
   "execution_count": 41,
   "metadata": {},
   "outputs": [
    {
     "data": {
      "image/png": "[encoded data removed]",
      "text/plain": [
       "<Figure size 864x576 with 1 Axes>"
      ]
     },
     "metadata": {
      "needs_background": "light"
     },
     "output_type": "display_data"
    }
   ],
   "source": [
    "# Make prediction on test data\n",
    "x_test = []\n",
    "\n",
    "for x in range(prediction_days, len(model_inputs)):\n",
    "    x_test.append(model_inputs[x-prediction_days:x, 0])\n",
    "    \n",
    "x_test = np.array(x_test)\n",
    "x_test = np.reshape(x_test, (x_test.shape[0], x_test.shape[1], 1))\n",
    "\n",
    "predicted_prices = model.predict(x_test)\n",
    "predicted_prices = scaler.inverse_transform(predicted_prices)\n",
    "# Plot the test prediction\n",
    "plt.figure(figsize=(12,8))\n",
    "plt.plot(actual_prices, color='blue', label=f'Actual {company} Price')\n",
    "plt.plot(predicted_prices, color='red', label=f'Predicted {company} Price')\n",
    "plt.title(f'{company} Share Price')\n",
    "plt.xlabel('Time')\n",
    "plt.ylabel(f'{company} Share Price')\n",
    "plt.legend()\n",
    "plt.show()"
   ]
  },
  {
   "cell_type": "code",
   "execution_count": 42,
   "metadata": {},
   "outputs": [
    {
     "name": "stdout",
     "output_type": "stream",
     "text": [
      "WARNING:tensorflow:Model was constructed with shape (None, 60, 1) for input Tensor(\"lstm_12_input:0\", shape=(None, 60, 1), dtype=float32), but it was called on an input with incompatible shape (None, 59, 1).\n",
      "Prediction : [[3303.303]]\n"
     ]
    }
   ],
   "source": [
    "# Predict Next day\n",
    "real_data = [model_inputs[len(model_inputs) + 1 - prediction_days:len(model_inputs+1), 0]]\n",
    "real_data = np.array(real_data)\n",
    "real_data = np.reshape(real_data, (real_data.shape[0], real_data.shape[1], 1))\n",
    "\n",
    "prediction = model.predict(real_data)\n",
    "prediction = scaler.inverse_transform(prediction)\n",
    "print(f'Prediction : {prediction}')"
   ]
  },
  {
   "cell_type": "code",
   "execution_count": null,
   "metadata": {},
   "outputs": [],
   "source": []
  }
 ],
 "metadata": {
  "kernelspec": {
   "display_name": "Python 3",
   "language": "python",
   "name": "python3"
  },
  "language_info": {
   "codemirror_mode": {
    "name": "ipython",
    "version": 3
   },
   "file_extension": ".py",
   "mimetype": "text/x-python",
   "name": "python",
   "nbconvert_exporter": "python",
   "pygments_lexer": "ipython3",
   "version": "3.7.6"
  }
 },
 "nbformat": 4,
 "nbformat_minor": 4
}
